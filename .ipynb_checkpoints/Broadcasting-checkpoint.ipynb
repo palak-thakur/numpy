{
 "cells": [
  {
   "cell_type": "code",
   "execution_count": 1,
   "id": "806de118",
   "metadata": {},
   "outputs": [],
   "source": [
    "import numpy as np"
   ]
  },
  {
   "cell_type": "code",
   "execution_count": 3,
   "id": "f1dc324f",
   "metadata": {},
   "outputs": [
    {
     "data": {
      "text/plain": [
       "array([[1, 2, 3],\n",
       "       [4, 5, 6],\n",
       "       [7, 8, 9]])"
      ]
     },
     "execution_count": 3,
     "metadata": {},
     "output_type": "execute_result"
    }
   ],
   "source": [
    "arr= np.arange(1,10).reshape(3,3)\n",
    "arr"
   ]
  },
  {
   "cell_type": "code",
   "execution_count": 7,
   "id": "f5f879e8",
   "metadata": {},
   "outputs": [
    {
     "data": {
      "text/plain": [
       "array([[8],\n",
       "       [6],\n",
       "       [3]])"
      ]
     },
     "execution_count": 7,
     "metadata": {},
     "output_type": "execute_result"
    }
   ],
   "source": [
    "arr1= np.array([[8], [6], [3]])\n",
    "arr1"
   ]
  },
  {
   "cell_type": "markdown",
   "id": "227c161c",
   "metadata": {},
   "source": [
    "      R    C\n",
    "arr   3    3\n",
    "arr1  3    1\n",
    "\n",
    "Either both values should be same or 1 value should be 1\n",
    "arr and arr1 are broadcastable\n",
    "we can apply operations on them"
   ]
  },
  {
   "cell_type": "code",
   "execution_count": 8,
   "id": "81d53e87",
   "metadata": {},
   "outputs": [
    {
     "data": {
      "text/plain": [
       "array([[ 9, 10, 11],\n",
       "       [10, 11, 12],\n",
       "       [10, 11, 12]])"
      ]
     },
     "execution_count": 8,
     "metadata": {},
     "output_type": "execute_result"
    }
   ],
   "source": [
    "arr+arr1"
   ]
  },
  {
   "cell_type": "code",
   "execution_count": 9,
   "id": "5e886bb7",
   "metadata": {},
   "outputs": [
    {
     "data": {
      "text/plain": [
       "array([[-7, -6, -5],\n",
       "       [-2, -1,  0],\n",
       "       [ 4,  5,  6]])"
      ]
     },
     "execution_count": 9,
     "metadata": {},
     "output_type": "execute_result"
    }
   ],
   "source": [
    "arr-arr1"
   ]
  },
  {
   "cell_type": "code",
   "execution_count": 10,
   "id": "e2531faf",
   "metadata": {},
   "outputs": [
    {
     "data": {
      "text/plain": [
       "array([[ 8, 16, 24],\n",
       "       [24, 30, 36],\n",
       "       [21, 24, 27]])"
      ]
     },
     "execution_count": 10,
     "metadata": {},
     "output_type": "execute_result"
    }
   ],
   "source": [
    "arr*arr1"
   ]
  },
  {
   "cell_type": "code",
   "execution_count": 13,
   "id": "a8a1eeb7",
   "metadata": {},
   "outputs": [
    {
     "ename": "ValueError",
     "evalue": "operands could not be broadcast together with shapes (3,3) (2,) ",
     "output_type": "error",
     "traceback": [
      "\u001b[1;31m---------------------------------------------------------------------------\u001b[0m",
      "\u001b[1;31mValueError\u001b[0m                                Traceback (most recent call last)",
      "Input \u001b[1;32mIn [13]\u001b[0m, in \u001b[0;36m<cell line: 3>\u001b[1;34m()\u001b[0m\n\u001b[0;32m      1\u001b[0m arr2\u001b[38;5;241m=\u001b[39m np\u001b[38;5;241m.\u001b[39marray([\u001b[38;5;241m1\u001b[39m, \u001b[38;5;241m2\u001b[39m])\n\u001b[0;32m      2\u001b[0m \u001b[38;5;66;03m#arr and arr2 are not broadcastable\u001b[39;00m\n\u001b[1;32m----> 3\u001b[0m \u001b[43marr\u001b[49m\u001b[38;5;241;43m+\u001b[39;49m\u001b[43marr2\u001b[49m\n",
      "\u001b[1;31mValueError\u001b[0m: operands could not be broadcast together with shapes (3,3) (2,) "
     ]
    }
   ],
   "source": [
    "arr2= np.array([1, 2])\n",
    "#arr and arr2 are not broadcastable\n",
    "arr+arr2"
   ]
  },
  {
   "cell_type": "code",
   "execution_count": null,
   "id": "93781510",
   "metadata": {},
   "outputs": [],
   "source": []
  }
 ],
 "metadata": {
  "kernelspec": {
   "display_name": "Python 3 (ipykernel)",
   "language": "python",
   "name": "python3"
  },
  "language_info": {
   "codemirror_mode": {
    "name": "ipython",
    "version": 3
   },
   "file_extension": ".py",
   "mimetype": "text/x-python",
   "name": "python",
   "nbconvert_exporter": "python",
   "pygments_lexer": "ipython3",
   "version": "3.9.12"
  }
 },
 "nbformat": 4,
 "nbformat_minor": 5
}
