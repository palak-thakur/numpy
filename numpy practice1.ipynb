{
 "cells": [
  {
   "cell_type": "code",
   "execution_count": 49,
   "id": "46cc15fa",
   "metadata": {},
   "outputs": [],
   "source": [
    "import numpy as np\n"
   ]
  },
  {
   "cell_type": "code",
   "execution_count": 58,
   "id": "79887114",
   "metadata": {},
   "outputs": [],
   "source": [
    "rng= np.random.default_rng(seed= 3)   #seed is use to generate same random values\n",
    "col1 = rng.integers(low=3, high=9, size=(10, 1))\n",
    "col2 = rng.integers(low=5, high=15, size=(10, 1))\n",
    "col3 = 3*col1 + 4*col2+ rng.random(size=(10, 1))\n",
    "arr= np.concatenate((col1, col2, col3), axis=1)"
   ]
  },
  {
   "cell_type": "code",
   "execution_count": 59,
   "id": "a876be9e",
   "metadata": {},
   "outputs": [
    {
     "data": {
      "text/plain": [
       "array([[ 7.        ,  8.        , 53.39122819],\n",
       "       [ 3.        ,  9.        , 45.51674018],\n",
       "       [ 4.        , 11.        , 56.43062802],\n",
       "       [ 4.        ,  9.        , 48.58679857],\n",
       "       [ 4.        ,  7.        , 40.73783779],\n",
       "       [ 7.        ,  6.        , 45.95626725],\n",
       "       [ 8.        , 11.        , 68.28420116],\n",
       "       [ 6.        , 12.        , 66.64854721],\n",
       "       [ 3.        ,  5.        , 29.696216  ],\n",
       "       [ 3.        ,  6.        , 33.29272075]])"
      ]
     },
     "execution_count": 59,
     "metadata": {},
     "output_type": "execute_result"
    }
   ],
   "source": [
    "arr"
   ]
  },
  {
   "cell_type": "code",
   "execution_count": 74,
   "id": "c42c3181",
   "metadata": {},
   "outputs": [
    {
     "name": "stdout",
     "output_type": "stream",
     "text": [
      "[[ 8.         11.         68.28420116]\n",
      " [ 4.          9.         48.58679857]\n",
      " [ 3.          5.         29.696216  ]\n",
      " [ 7.          8.         53.39122819]\n",
      " [ 7.          6.         45.95626725]\n",
      " [ 3.          9.         45.51674018]\n",
      " [ 4.          7.         40.73783779]]\n",
      "[[ 4.         11.         56.43062802]\n",
      " [ 6.         12.         66.64854721]\n",
      " [ 3.          6.         33.29272075]]\n"
     ]
    }
   ],
   "source": [
    "#70 and 30% of array arr\n",
    "arr1= rng.permutation(arr)\n",
    "rows= arr1.shape[0]\n",
    "p1=0.7\n",
    "print(arr1[:int(rows*p1), :])\n",
    "print(arr1[int(rows*p1):, :])\n"
   ]
  },
  {
   "cell_type": "code",
   "execution_count": null,
   "id": "9c529cc3",
   "metadata": {},
   "outputs": [],
   "source": [
    "ind= rng.permutation(np.arange(10))\n",
    "print(arr1[: :])\n",
    "print(arr1[int(rows*p1):, :])"
   ]
  }
 ],
 "metadata": {
  "kernelspec": {
   "display_name": "Python 3 (ipykernel)",
   "language": "python",
   "name": "python3"
  },
  "language_info": {
   "codemirror_mode": {
    "name": "ipython",
    "version": 3
   },
   "file_extension": ".py",
   "mimetype": "text/x-python",
   "name": "python",
   "nbconvert_exporter": "python",
   "pygments_lexer": "ipython3",
   "version": "3.9.12"
  }
 },
 "nbformat": 4,
 "nbformat_minor": 5
}
