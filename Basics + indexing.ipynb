{
 "cells": [
  {
   "cell_type": "code",
   "execution_count": 1,
   "id": "c8986b0d",
   "metadata": {},
   "outputs": [],
   "source": [
    "import numpy as np"
   ]
  },
  {
   "cell_type": "code",
   "execution_count": 22,
   "id": "61053392",
   "metadata": {},
   "outputs": [
    {
     "data": {
      "text/plain": [
       "array([1, 2, 3, 4, 5, 6, 7, 8])"
      ]
     },
     "execution_count": 22,
     "metadata": {},
     "output_type": "execute_result"
    }
   ],
   "source": [
    "#creating array\n",
    "np.array([[1, 2, 3, 4, 5], [6, 7, 8, 9, 8]])  #array with list\n",
    "np.array(((5, 2, 7), (3, 8, 9)))  #array with tuples\n",
    "np.zeros((2, 3)) #array with value zero\n",
    "np.full((3, 3), 3, dtype = 'complex') #ARRAY with single value\n",
    "np.random.random((3, 2))  #array of random values\n",
    "np.arange(1, 9, 2).reshape(4, 1)  #array from range\n",
    "\n",
    "arr= np.arange(1, 9).reshape(2, 4) #2-D array\n",
    "arr.flatten() #falttening 2-D array"
   ]
  },
  {
   "cell_type": "code",
   "execution_count": 35,
   "id": "33568a17",
   "metadata": {},
   "outputs": [
    {
     "name": "stdout",
     "output_type": "stream",
     "text": [
      "2, [5 6 7 8] \n",
      "\n",
      "[[3 4]\n",
      " [7 8]], [[1 2]]\n",
      "\n",
      "[3 7] [5 6]\n"
     ]
    }
   ],
   "source": [
    "#Array indexing\n",
    "#basic indexing, integer and slice is used\n",
    "arr= np.arange(1, 9).reshape(2, 4)\n",
    "\n",
    "#indexing with integer\n",
    "print(arr[0][1], arr[1], sep= \", \", end=\" \\n\\n\")  #this will give 1-D array\n",
    "\n",
    "#indexing with slice\n",
    "print(arr[:, 2:], arr[0:1, :2], sep= \", \", end= \"\\n\\n\")\n",
    "\n",
    "#indexing with slice and integer\n",
    "print(arr[:, 2], arr[1, :2]) #this will give 1-D array"
   ]
  },
  {
   "cell_type": "code",
   "execution_count": 47,
   "id": "01d6da5f",
   "metadata": {},
   "outputs": [
    {
     "name": "stdout",
     "output_type": "stream",
     "text": [
      "[[1 2 3 4]\n",
      " [5 6 7 8]]\n",
      "\n",
      "[7 2]\n",
      "\n",
      "[[1 4]\n",
      " [5 8]]\n",
      "\n",
      "[2 4 6 8]\n"
     ]
    }
   ],
   "source": [
    "#advance indexing\n",
    "arr= np.arange(1, 9).reshape(2, 4)\n",
    "print(arr, end= \"\\n\\n\")\n",
    "\n",
    "# integer array indexing\n",
    "# 1)\n",
    "print(arr[[1, 0], [2, 1]], end= \"\\n\\n\")\n",
    "\n",
    "# 2)\n",
    "row= [[0,0], [1,1]] \n",
    "col= [[0, 3], [0, 3]]\n",
    "print(arr[row, col], end=\"\\n\\n\")   #corresponding row col\n",
    "\n",
    "#boolean indexing\n",
    "print(arr[arr%2==0]) #give 1-D array"
   ]
  },
  {
   "cell_type": "code",
   "execution_count": null,
   "id": "727083e2",
   "metadata": {},
   "outputs": [],
   "source": []
  }
 ],
 "metadata": {
  "kernelspec": {
   "display_name": "Python 3 (ipykernel)",
   "language": "python",
   "name": "python3"
  },
  "language_info": {
   "codemirror_mode": {
    "name": "ipython",
    "version": 3
   },
   "file_extension": ".py",
   "mimetype": "text/x-python",
   "name": "python",
   "nbconvert_exporter": "python",
   "pygments_lexer": "ipython3",
   "version": "3.9.12"
  }
 },
 "nbformat": 4,
 "nbformat_minor": 5
}
